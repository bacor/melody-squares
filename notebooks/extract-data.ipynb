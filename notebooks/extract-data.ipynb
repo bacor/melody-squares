{
 "cells": [
  {
   "cell_type": "markdown",
   "metadata": {},
   "source": [
    "# Extract data"
   ]
  },
  {
   "cell_type": "markdown",
   "metadata": {},
   "source": [
    "## Config etc"
   ]
  },
  {
   "cell_type": "code",
   "execution_count": 1,
   "metadata": {},
   "outputs": [],
   "source": [
    "from music21 import converter\n",
    "from collections import Counter\n",
    "import sys\n",
    "sys.path.append('../../')\n",
    "import matplotlib.pyplot as plt\n",
    "import numpy as np\n",
    "import glob\n",
    "import os\n",
    "import glob\n",
    "import pandas as pd\n",
    "import h5py\n",
    "import seaborn as sns"
   ]
  },
  {
   "cell_type": "code",
   "execution_count": 2,
   "metadata": {},
   "outputs": [],
   "source": [
    "# The directory with all catafolk data\n",
    "CATAFOLK_DIR = '/Users/Bas/surfdrive/catafolk'\n",
    "\n",
    "# The directory with all Tsimané transcriptions\n",
    "TSIMANE_DIR = '/Users/Bas/repos/papers/tsimane/transcriptions/musicxml'\n",
    "\n",
    "# The main data file\n",
    "DATA_STORE = '../data/test.hdf5'\n",
    "# DATA_STORE = '../data/data.hdf5'"
   ]
  },
  {
   "cell_type": "code",
   "execution_count": 3,
   "metadata": {},
   "outputs": [],
   "source": [
    "# Build index of Tsimané files\n",
    "tsimane_index = pd.DataFrame()\n",
    "tsimane_index['local_path'] = glob.glob(f'{TSIMANE_DIR}/*.musicxml')\n",
    "tsimane_index['index'] = ['tsimane-'+os.path.basename(p).split('.')[0] for p in tsimane_index['local_path']]"
   ]
  },
  {
   "cell_type": "markdown",
   "metadata": {},
   "source": [
    "## Code"
   ]
  },
  {
   "cell_type": "code",
   "execution_count": 4,
   "metadata": {},
   "outputs": [],
   "source": [
    "def get_step_curve(filename, include_repetitions=False):\n",
    "    stream = converter.parse(filename)\n",
    "    part_lengths = [len(part.flat.notes) for part in stream.parts]\n",
    "    part_unique_notes = [len({n.pitch.ps for n in part.flat.notes}) for part in stream.parts]\n",
    "    part = stream.parts[np.argmax(part_unique_notes)]\n",
    "    notes = [part.flat.notes[0]]\n",
    "    for note in part.flat.notes:\n",
    "        if note.pitch.ps != notes[-1].pitch.ps or include_repetitions:\n",
    "            notes.append(note)\n",
    "    pitches = [n.pitch.ps for n in notes]\n",
    "    onsets = [float(n.offset) for n in notes]\n",
    "    return np.array([onsets, pitches])\n",
    "\n",
    "# sioux_files = sorted(glob.glob(patterns['sioux']))\n",
    "# ts, ps = get_step_curve(sioux_files[0], include_repetitions=True)\n",
    "# plt.plot(ts, ps, '.-')\n",
    "# ts, ps = get_step_curve(sioux_files[0])\n",
    "# plt.plot(ts, ps, '.-')"
   ]
  },
  {
   "cell_type": "code",
   "execution_count": 5,
   "metadata": {},
   "outputs": [],
   "source": [
    "def process_files(filenames, repeats=False, min_length=3):\n",
    "    entries = []\n",
    "    for filename in filenames:\n",
    "        try:\n",
    "            ts, ps = get_step_curve(filename, include_repetitions=repeats)\n",
    "            if len(ts) <= min_length: continue\n",
    "            entries.append(dict(\n",
    "                onsets = np.array(ts),\n",
    "                pitches = np.array(ps),\n",
    "                intervals = np.array(ps[1:] - ps[:-1])\n",
    "            ))\n",
    "        except Exception as e:\n",
    "            print(filename, e)\n",
    "    return entries"
   ]
  },
  {
   "cell_type": "code",
   "execution_count": 6,
   "metadata": {},
   "outputs": [],
   "source": [
    "def load_corpus_index(corpus, catafolk_dir=CATAFOLK_DIR):\n",
    "    corpus_dir = glob.glob(f'{catafolk_dir}/{corpus}/**')[0]\n",
    "    if os.path.isfile(corpus_dir):\n",
    "        corpus_dir = os.path.dirname(corpus_dir)\n",
    "    index = pd.read_csv(f'{corpus_dir}/index.csv', index_col=0)\n",
    "    col = 'path' if 'path' in index.columns else 'file_path'\n",
    "    index['local_path'] = [f'{corpus_dir}/{fp}' for fp in index[col]]\n",
    "    return index"
   ]
  },
  {
   "cell_type": "code",
   "execution_count": 7,
   "metadata": {},
   "outputs": [],
   "source": [
    "def generate_corpus_data(corpus, refresh=False, repeats=False):\n",
    "    with h5py.File(DATA_STORE, \"a\") as file:\n",
    "        root = f\"{corpus}/{'with' if repeats else 'without'}-repeats/\"\n",
    "\n",
    "        if root in file and not refresh: \n",
    "            print('>  Skipping', corpus)\n",
    "            return\n",
    "        if root in file:\n",
    "            del file[root]\n",
    "        \n",
    "        if corpus == 'tsimane':\n",
    "            index = tsimane_index\n",
    "        else:\n",
    "            index = load_corpus_index(corpus)\n",
    "        \n",
    "        all_pitches = []\n",
    "        all_onsets = []\n",
    "        entries = process_files(index.local_path, repeats=repeats)\n",
    "        for id, entry in zip(index.index, entries):\n",
    "            pitches = entry['pitches']\n",
    "            onsets = entry['onsets']\n",
    "            \n",
    "            # Store in database\n",
    "            file.create_dataset(f\"{root}/entries/{id}/onsets\", data=onsets)\n",
    "            file.create_dataset(f\"{root}/entries/{id}/pitches\", data=pitches)\n",
    "            \n",
    "            # Append to seq of all pitches/onsets; mark end of the song by NAN\n",
    "            all_pitches.extend(pitches)\n",
    "            all_onsets.extend(onsets)\n",
    "            all_pitches.append(np.nan)\n",
    "            all_onsets.append(np.nan)\n",
    "\n",
    "        file.create_dataset(f\"{root}/onsets\", data=np.array(all_onsets))\n",
    "        file.create_dataset(f\"{root}/pitches\", data=np.array(all_pitches))\n",
    "\n",
    "# generate_corpus_data('creighton-nova-scotia', refresh=True)\n",
    "# generate_corpus_data('creighton-nova-scotia', refresh=True, repeats=True)"
   ]
  },
  {
   "cell_type": "code",
   "execution_count": 8,
   "metadata": {},
   "outputs": [],
   "source": [
    "def remove_corpus(corpus):\n",
    "    with h5py.File(\"data.hdf5\", \"a\") as file:\n",
    "        if corpus in file:\n",
    "            del file[corpus]\n",
    "\n",
    "# remove_corpus('densmore-papago')"
   ]
  },
  {
   "cell_type": "markdown",
   "metadata": {},
   "source": [
    "## Extract data"
   ]
  },
  {
   "cell_type": "code",
   "execution_count": 9,
   "metadata": {},
   "outputs": [],
   "source": [
    "kern_corpora = [\n",
    "    # 'boehme-altdeutsches-liederbuch',\n",
    "    # 'boehme-volksthumliche-lieder',\n",
    "    'creighton-nova-scotia',\n",
    "    # 'densmore-choctaw',\n",
    "    # 'densmore-maidu',\n",
    "    # 'densmore-menominee',\n",
    "    # 'densmore-nootka',\n",
    "    # 'densmore-northern-ute',\n",
    "    # 'densmore-ojibway',\n",
    "    \n",
    "    # 'densmore-pawnee',\n",
    "    # 'densmore-pueblo',\n",
    "    # 'densmore-teton-sioux',\n",
    "    # 'erk-deutscher-liederhort',\n",
    "    # 'essen-china-han',\n",
    "    # 'essen-china-natmin',\n",
    "    # 'essen-china-shanxi',\n",
    "    # 'essen-china-xinhua',\n",
    "    # 'pinck-verklingende-weisen',\n",
    "    # 'sagrillo-ireland',\n",
    "    # 'sagrillo-luxembourg',\n",
    "    # 'haydn-scottish-songs',\n",
    "    # #\n",
    "    # # 'bronson-child-ballads',\n",
    "    # # 'densmore-papago',\n",
    "    # # 'natural-history-of-song',\n",
    "    # # 'finnish-folk-tunes',\n",
    "]"
   ]
  },
  {
   "cell_type": "code",
   "execution_count": 10,
   "metadata": {},
   "outputs": [],
   "source": [
    "generate_corpus_data('tsimane', repeats=True)\n",
    "generate_corpus_data('tsimane', repeats=False)"
   ]
  },
  {
   "cell_type": "code",
   "execution_count": 11,
   "metadata": {},
   "outputs": [
    {
     "name": "stdout",
     "output_type": "stream",
     "text": [
      "creighton-nova-scotia\n"
     ]
    }
   ],
   "source": [
    "for corpus in kern_corpora:\n",
    "    print(corpus)\n",
    "    generate_corpus_data(corpus, repeats=True)\n",
    "    generate_corpus_data(corpus, repeats=False)"
   ]
  },
  {
   "cell_type": "code",
   "execution_count": null,
   "metadata": {},
   "outputs": [],
   "source": []
  }
 ],
 "metadata": {
  "kernelspec": {
   "display_name": "Python 3.9.5 ('env': venv)",
   "language": "python",
   "name": "python3"
  },
  "language_info": {
   "codemirror_mode": {
    "name": "ipython",
    "version": 3
   },
   "file_extension": ".py",
   "mimetype": "text/x-python",
   "name": "python",
   "nbconvert_exporter": "python",
   "pygments_lexer": "ipython3",
   "version": "3.9.5"
  },
  "vscode": {
   "interpreter": {
    "hash": "3ff4c0a12b8ad6db899e0078d7e3d038d879e09b1aa0f4a9d3c1490001e2de0a"
   }
  }
 },
 "nbformat": 4,
 "nbformat_minor": 4
}
